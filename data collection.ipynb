{
 "cells": [
  {
   "cell_type": "code",
   "execution_count": null,
   "id": "8d318653-d76e-4474-8d74-7fe3d441a0b5",
   "metadata": {},
   "outputs": [],
   "source": [
    "\n",
    "import requests\n",
    "from bs4 import BeautifulSoup\n",
    "from pprint import pprint\n",
    "import os\n",
    "import urllib.request\n",
    "from tqdm import tqdm\n",
    "from fastai.vision.utils import download_images\n",
    "from fastai.basics import Path\n",
    "from fastbook import search_images_ddg"
   ]
  },
  {
   "cell_type": "code",
   "execution_count": null,
   "id": "c4c308ed-2d9a-4a80-bd35-2f6fb5eedfa1",
   "metadata": {},
   "outputs": [],
   "source": [
    "\n",
    "def scrape_website(website_link):\n",
    "    \"\"\"\n",
    "    Scrapes a website for image links.\n",
    "    \n",
    "    Args:\n",
    "        website_link (str): The link to the website to be scraped.\n",
    "        \n",
    "    Returns:\n",
    "        list: A list of image links found on the website.\n",
    "    \"\"\"\n",
    "    \n",
    "    \n",
    "    response = requests.get(website_link)\n",
    "    soup = BeautifulSoup(response.content, \"html.parser\")\n",
    "    elements = soup.find_all(class_=\"section pt-4\")\n",
    "\n",
    "    \n",
    "    picture_elements = [element.find_all(\"source\") for element in elements]\n",
    "\n",
    "    thumbnail_links = [source['srcset'] for element in picture_elements for source in element if source.has_attr('srcset')]\n",
    "    image_links = []\n",
    "    \n",
    "    for link in thumbnail_links:\n",
    "        image_links.append(link.replace('thumbnail', 'image'))\n",
    "    \n",
    "    return image_links\n",
    "\n",
    "\n",
    "\n"
   ]
  },
  {
   "cell_type": "code",
   "execution_count": null,
   "id": "8e244b78-2845-4171-b905-404c4439e2b5",
   "metadata": {},
   "outputs": [],
   "source": [
    "\n",
    "# List of website links\n",
    "website_base_link = 'https://www.kickresume.com/en/help-center/resume-samples/?page='\n",
    "links = []\n",
    "# Loop through the website links\n",
    "for i  in tqdm(range(1, 110)):\n",
    "    # Call the scrape_website function for each link\n",
    "    website_link = website_base_link + str(i)\n",
    "    links.extend(scrape_website(website_link))\n",
    "    \n",
    "len(links)\n"
   ]
  },
  {
   "cell_type": "code",
   "execution_count": null,
   "id": "bed4d5f9-1fe4-4fb4-81f7-b87710bdea5a",
   "metadata": {},
   "outputs": [],
   "source": [
    "\n",
    "\n",
    "# Create the folder if it doesn't exist\n",
    "folder_path = \"image/resume\"\n",
    "os.makedirs(folder_path, exist_ok=True)\n",
    "\n",
    "# Download and save the images\n",
    "for i, link in tqdm(enumerate(links)):\n",
    "    image_path = os.path.join(folder_path, f\"image_{i}.jpg\")\n",
    "    urllib.request.urlretrieve(link, image_path)\n"
   ]
  },
  {
   "cell_type": "code",
   "execution_count": null,
   "id": "a3426629-5c1a-4b5e-a5a5-ef039fc8f379",
   "metadata": {},
   "outputs": [],
   "source": [
    "\n",
    "classes = ['cover_letter','documents','invitation','recomandation_letter','poster','ppt','notes','report','statement','pics']\n",
    "\n",
    "# Create the folder if it doesn't exist\n",
    "folder_path = \"image/notresume\"\n",
    "os.makedirs(folder_path, exist_ok=True)\n",
    "\n",
    "from urllib.error import HTTPError\n",
    "\n",
    "\n",
    "\n",
    "for class_name in tqdm(classes):\n",
    "    urls = search_images_ddg(class_name, max_images=250)\n",
    "    \n",
    "    try:\n",
    "        download_images(urls =urls, dest=folder_path)\n",
    "    except Exception as e:\n",
    "        pass"
   ]
  },
  {
   "cell_type": "code",
   "execution_count": null,
   "id": "2c2cf4c1-a636-4de2-a390-51c0833c8385",
   "metadata": {},
   "outputs": [],
   "source": [
    "import os\n",
    "\n",
    "def count_images_in_folder(folder_path):\n",
    "    image_extensions = ['.jpg', '.jpeg', '.png', '.gif', '.bmp']\n",
    "    count = 0\n",
    "\n",
    "    for file_name in os.listdir(folder_path):\n",
    "        if any(file_name.lower().endswith(ext) for ext in image_extensions):\n",
    "            count += 1\n",
    "\n",
    "    return count\n",
    "\n",
    "# Specify the folder path\n",
    "folder_path = \"image/resume\"\n",
    "\n",
    "# Call the function to count the images\n",
    "image_count = count_images_in_folder(folder_path)\n",
    "print(f\"There are {image_count} images in the folder.\")\n"
   ]
  }
 ],
 "metadata": {
  "kernelspec": {
   "display_name": "Python 3 (ipykernel)",
   "language": "python",
   "name": "python3"
  },
  "language_info": {
   "codemirror_mode": {
    "name": "ipython",
    "version": 3
   },
   "file_extension": ".py",
   "mimetype": "text/x-python",
   "name": "python",
   "nbconvert_exporter": "python",
   "pygments_lexer": "ipython3",
   "version": "3.9.16"
  }
 },
 "nbformat": 4,
 "nbformat_minor": 5
}
